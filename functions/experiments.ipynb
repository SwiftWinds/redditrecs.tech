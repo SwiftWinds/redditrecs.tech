{
 "cells": [
  {
   "cell_type": "code",
   "execution_count": 13,
   "metadata": {},
   "outputs": [],
   "source": [
    "import json\n",
    "import requests\n",
    "\n",
    "query = \"best res\"\n",
    "\n",
    "cursor_pos = len(query)\n",
    "url_friendly_query = query.replace(\" \", \"%20\")\n",
    "\n",
    "url = f\"https://www.google.com/complete/search?q={url_friendly_query}%20reddit&cp={cursor_pos}&client=gws-wiz&xssi=t&hl=en&authuser=0&dpr=2\"\n",
    "\n",
    "res = requests.get(url).text[5:]\n",
    "parsed = json.loads(res)[0]"
   ]
  },
  {
   "cell_type": "code",
   "execution_count": 14,
   "metadata": {},
   "outputs": [],
   "source": [
    "suggestions = [element[0].replace(\"reddit\", \"\").replace(\" </b>\", \"</b>\") for element in parsed]"
   ]
  },
  {
   "cell_type": "code",
   "execution_count": 15,
   "metadata": {},
   "outputs": [
    {
     "data": {
      "text/plain": [
       "['best res<b>ume builder</b>',\n",
       " 'best res<b>ident evil game</b>',\n",
       " 'best res<b>ume template</b>',\n",
       " 'best res<b>istance bands</b>',\n",
       " 'best res<b>taurants nyc</b>',\n",
       " 'best res<b>ume writing service</b>',\n",
       " 'best res<b>taurants chicago</b>',\n",
       " 'best res<b>taurants montreal</b>',\n",
       " 'best res<b>p canada</b>',\n",
       " 'best res<b>taurants in rome</b>']"
      ]
     },
     "execution_count": 15,
     "metadata": {},
     "output_type": "execute_result"
    }
   ],
   "source": [
    "suggestions"
   ]
  }
 ],
 "metadata": {
  "kernelspec": {
   "display_name": "Python 3",
   "language": "python",
   "name": "python3"
  },
  "language_info": {
   "codemirror_mode": {
    "name": "ipython",
    "version": 3
   },
   "file_extension": ".py",
   "mimetype": "text/x-python",
   "name": "python",
   "nbconvert_exporter": "python",
   "pygments_lexer": "ipython3",
   "version": "3.12.4"
  }
 },
 "nbformat": 4,
 "nbformat_minor": 2
}
