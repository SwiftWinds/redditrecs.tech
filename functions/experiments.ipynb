{
 "cells": [
  {
   "cell_type": "code",
   "execution_count": 13,
   "metadata": {},
   "outputs": [],
   "source": [
    "import json\n",
    "import requests\n",
    "\n",
    "query = \"best res\"\n",
    "\n",
    "cursor_pos = len(query)\n",
    "url_friendly_query = query.replace(\" \", \"%20\")\n",
    "\n",
    "url = f\"https://www.google.com/complete/search?q={url_friendly_query}%20reddit&cp={cursor_pos}&client=gws-wiz&xssi=t&hl=en&authuser=0&dpr=2\"\n",
    "\n",
    "res = requests.get(url).text[5:]\n",
    "parsed = json.loads(res)[0]"
   ]
  },
  {
   "cell_type": "code",
   "execution_count": 14,
   "metadata": {},
   "outputs": [],
   "source": [
    "suggestions = [element[0].replace(\"reddit\", \"\").replace(\" </b>\", \"</b>\") for element in parsed]"
   ]
  },
  {
   "cell_type": "code",
   "execution_count": 15,
   "metadata": {},
   "outputs": [
    {
     "data": {
      "text/plain": [
       "['best res<b>ume builder</b>',\n",
       " 'best res<b>ident evil game</b>',\n",
       " 'best res<b>ume template</b>',\n",
       " 'best res<b>istance bands</b>',\n",
       " 'best res<b>taurants nyc</b>',\n",
       " 'best res<b>ume writing service</b>',\n",
       " 'best res<b>taurants chicago</b>',\n",
       " 'best res<b>taurants montreal</b>',\n",
       " 'best res<b>p canada</b>',\n",
       " 'best res<b>taurants in rome</b>']"
      ]
     },
     "execution_count": 15,
     "metadata": {},
     "output_type": "execute_result"
    }
   ],
   "source": [
    "suggestions"
   ]
  },
  {
   "cell_type": "code",
   "execution_count": 6,
   "metadata": {},
   "outputs": [
    {
     "name": "stdout",
     "output_type": "stream",
     "text": [
      "https://www.reddit.com/r/SantaBarbara/comments/15xle76/recommendations_for_dinner_in_sb/\n",
      "https://www.reddit.com/r/SantaBarbara/comments/fa1o7f/favorite_spot_to_eat_in_sb/\n",
      "https://www.reddit.com/r/SantaBarbara/comments/1465y6b/any_unique_restaurants_i_should_check_out_before/\n",
      "https://www.reddit.com/r/SantaBarbara/comments/oodgzp/two_nights_in_santa_barbara_must_do_see_and_eat/\n",
      "https://www.reddit.com/r/SantaBarbara/comments/q4tjta/restaurant_recommendations/\n",
      "https://www.reddit.com/r/SantaBarbara/comments/12r5h1s/best_hole_in_the_wall_restaurants/\n",
      "https://www.reddit.com/r/finedining/comments/180zlnc/recommendations_for_santa_barbara_fine_dining/\n",
      "https://www.reddit.com/r/SantaBarbara/wiki/index/\n",
      "https://www.reddit.com/r/SantaBarbara/comments/1ciybls/best_restaurants_for_food_in_sb/\n",
      "https://www.reddit.com/r/SantaBarbara/comments/63b1ze/best_spots_for_dinner_in_santa_barbara/\n",
      "https://www.reddit.com/r/SantaBarbara/comments/ntoodp/places_to_eat/\n",
      "https://www.reddit.com/r/SantaBarbara/comments/pyuu46/a_very_subjective_list_of_great_places_to_go_out/\n"
     ]
    }
   ],
   "source": [
    "from googlesearch import search\n",
    "for res in search(\"best restaurants santa barbara reddit\", safe=None):\n",
    "    print(res)"
   ]
  },
  {
   "cell_type": "code",
   "execution_count": null,
   "metadata": {},
   "outputs": [],
   "source": []
  }
 ],
 "metadata": {
  "kernelspec": {
   "display_name": "Python 3",
   "language": "python",
   "name": "python3"
  },
  "language_info": {
   "codemirror_mode": {
    "name": "ipython",
    "version": 3
   },
   "file_extension": ".py",
   "mimetype": "text/x-python",
   "name": "python",
   "nbconvert_exporter": "python",
   "pygments_lexer": "ipython3",
   "version": "3.12.4"
  }
 },
 "nbformat": 4,
 "nbformat_minor": 2
}
