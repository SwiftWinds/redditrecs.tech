{
 "cells": [
  {
   "cell_type": "code",
   "execution_count": 4,
   "metadata": {},
   "outputs": [],
   "source": [
    "import json\n",
    "import requests\n",
    "\n",
    "from googlesearch import search\n",
    "\n",
    "import praw\n",
    "\n",
    "from multiprocess import Pool\n",
    "import time\n",
    "\n",
    "from g4f.client import Client"
   ]
  },
  {
   "cell_type": "code",
   "execution_count": 5,
   "metadata": {},
   "outputs": [],
   "source": [
    "query = \"best res\"\n",
    "\n",
    "cursor_pos = len(query)\n",
    "url_friendly_query = query.replace(\" \", \"%20\")\n",
    "\n",
    "url = f\"https://www.google.com/complete/search?q={url_friendly_query}%20reddit&cp={cursor_pos}&client=gws-wiz&xssi=t&hl=en&authuser=0&dpr=2\"\n",
    "\n",
    "res = requests.get(url).text[5:]\n",
    "parsed = json.loads(res)[0]"
   ]
  },
  {
   "cell_type": "code",
   "execution_count": 6,
   "metadata": {},
   "outputs": [],
   "source": [
    "suggestions = [element[0].replace(\"reddit\", \"\").replace(\" </b>\", \"</b>\") for element in parsed]"
   ]
  },
  {
   "cell_type": "code",
   "execution_count": 7,
   "metadata": {},
   "outputs": [
    {
     "data": {
      "text/plain": [
       "['best res<b>ume builder</b>',\n",
       " 'best res<b>ume template</b>',\n",
       " 'best res<b>ident evil game</b>',\n",
       " 'best res<b>istance bands</b>',\n",
       " 'best res<b>taurants nyc</b>',\n",
       " 'best res<b>taurants chicago</b>',\n",
       " 'best res<b>ume writing service</b>',\n",
       " 'best res<b>taurants toronto</b>',\n",
       " 'best res<b>taurants in rome</b>',\n",
       " 'best res<b>taurants london</b>']"
      ]
     },
     "execution_count": 7,
     "metadata": {},
     "output_type": "execute_result"
    }
   ],
   "source": [
    "suggestions"
   ]
  },
  {
   "cell_type": "code",
   "execution_count": 59,
   "metadata": {},
   "outputs": [],
   "source": [
    "query = \"best budgeting app reddit\""
   ]
  },
  {
   "cell_type": "code",
   "execution_count": 60,
   "metadata": {},
   "outputs": [],
   "source": [
    "submission_ids = []\n",
    "for res in search(query, safe=None):\n",
    "    if \"/comments/\" in res:\n",
    "        submission_id = res.split(\"/\")[6]\n",
    "        submission_ids.append(submission_id)"
   ]
  },
  {
   "cell_type": "code",
   "execution_count": 61,
   "metadata": {},
   "outputs": [],
   "source": [
    "r = praw.Reddit(\n",
    "    client_id=\"2gs3ULbVK-pGh7INla0gWg\",\n",
    "    client_secret=\"g6S2REUlWw8fBBIgJiaFrqIkZUVICQ\",\n",
    "    user_agent=\"web:tech.redditrecs:v1.0.0 (by u/matetoes)\",\n",
    ")"
   ]
  },
  {
   "cell_type": "code",
   "execution_count": 62,
   "metadata": {},
   "outputs": [
    {
     "data": {
      "text/plain": [
       "['18mhmo1',\n",
       " '1ceo86f',\n",
       " '17lj2md',\n",
       " '1dnf5ma',\n",
       " '1bf0wqy',\n",
       " '18hs1ph',\n",
       " '1grfpey',\n",
       " '1ajrhra',\n",
       " 'rtznth',\n",
       " '1f41co8']"
      ]
     },
     "execution_count": 62,
     "metadata": {},
     "output_type": "execute_result"
    }
   ],
   "source": [
    "submission_ids"
   ]
  },
  {
   "cell_type": "code",
   "execution_count": 63,
   "metadata": {},
   "outputs": [
    {
     "name": "stdout",
     "output_type": "stream",
     "text": [
      "Submission 1ajrhra took 0.54341721534729 seconds\n",
      "Submission 18mhmo1 took 0.5704689025878906 seconds\n",
      "Submission rtznth took 0.5930249691009521 secondsSubmission 1dnf5ma took 0.5943222045898438 seconds\n",
      "\n",
      "Submission 1bf0wqy took 0.6290040016174316 seconds\n",
      "Submission 18hs1ph took 0.6888818740844727 seconds\n",
      "Submission 1ceo86f took 0.8243181705474854 seconds\n",
      "Submission 1grfpey took 0.8786208629608154 seconds\n",
      "Submission 1f41co8 took 1.0432429313659668 seconds\n",
      "Submission 17lj2md took 1.9688961505889893 seconds\n"
     ]
    }
   ],
   "source": [
    "submissions = []\n",
    "\n",
    "def jsonify(comment):\n",
    "    return {\n",
    "        \"id\": comment.id,\n",
    "        \"body\": comment.body,\n",
    "        \"score\": comment.score,\n",
    "        \"author\": str(comment.author),\n",
    "        \"replies\": [jsonify(reply) for reply in comment.replies],\n",
    "    }\n",
    "\n",
    "def get(submission_id):\n",
    "    # let's time how long this takes\n",
    "    start = time.time()\n",
    "    comments = []\n",
    "    submission = r.submission(submission_id)\n",
    "    submission.comments.replace_more(limit=None)\n",
    "    # get title and body of submission\n",
    "    title = submission.title\n",
    "    selftext = submission.selftext\n",
    "    for comment in submission.comments:\n",
    "        comments.append(jsonify(comment))\n",
    "    result = {\n",
    "        \"title\": title,\n",
    "        \"selftext\": selftext,\n",
    "        \"comments\": comments,\n",
    "    }\n",
    "    end = time.time()\n",
    "    print(f\"Submission {submission_id} took {end - start} seconds\")\n",
    "    return result\n",
    "\n",
    "with Pool(len(submission_ids)) as pool:\n",
    "    submissions = pool.map(get, submission_ids)"
   ]
  },
  {
   "cell_type": "code",
   "execution_count": 64,
   "metadata": {},
   "outputs": [
    {
     "data": {
      "text/plain": [
       "10035"
      ]
     },
     "execution_count": 64,
     "metadata": {},
     "output_type": "execute_result"
    }
   ],
   "source": [
    "len(json.dumps(submissions[0][\"comments\"][0]))\n",
    "\n",
    "# let's find the max\n",
    "max_len = 0\n",
    "max_comment = None\n",
    "for submission in submissions:\n",
    "    for comment in submission[\"comments\"]:\n",
    "        if len(json.dumps(comment)) > max_len:\n",
    "            max_len = len(json.dumps(comment))\n",
    "            max_comment = comment\n",
    "\n",
    "max_len"
   ]
  },
  {
   "cell_type": "code",
   "execution_count": 65,
   "metadata": {},
   "outputs": [
    {
     "name": "stdout",
     "output_type": "stream",
     "text": [
      "222\n"
     ]
    }
   ],
   "source": [
    "len(submissions[0][\"comments\"])\n",
    "\n",
    "# let's sum all the lengths\n",
    "print(sum([len(submission[\"comments\"]) for submission in submissions]))"
   ]
  },
  {
   "cell_type": "code",
   "execution_count": 66,
   "metadata": {},
   "outputs": [],
   "source": [
    "def to_input(submission, query):\n",
    "    return {\n",
    "        \"query\": query,\n",
    "        \"title\": submission[\"title\"],\n",
    "        \"selftext\": submission[\"selftext\"],\n",
    "        \"comment_thread\": submission[\"comments\"][0],\n",
    "    }"
   ]
  },
  {
   "cell_type": "code",
   "execution_count": 67,
   "metadata": {},
   "outputs": [],
   "source": [
    "example_inputs = []"
   ]
  },
  {
   "cell_type": "code",
   "execution_count": 68,
   "metadata": {},
   "outputs": [],
   "source": [
    "example_inputs.append(to_input(submissions[0], query))"
   ]
  },
  {
   "cell_type": "code",
   "execution_count": 69,
   "metadata": {},
   "outputs": [
    {
     "name": "stdout",
     "output_type": "stream",
     "text": [
      "test: {'query': 'best budgeting app reddit', 'title': 'Best budgeting app for a complete newbie?', 'selftext': \"42 years old and have a lot of fear around money. That fear keeps me from really tracking my personal finances. Like, I literally check my bank account balance a week before rents due and just hope for the best lol. So far I've always been fine in my adult life and able to pay rent; although there have been some close calls. I'm so mindful in so many other aspects of my life. But just not when it comes to money, budgeting, and tracking. I know the way I do things now is INCREDIBLY irresponsible. \\n\\n  \\nMy goal for 2024 is to lean into that fear around money and to start tracking my personal finance, budgeting, start being more mindful of my spending, and to just all around become more financially responsible.\\n\\n  \\nIs there a budgeting app you'd recommend for a beginner? Also any other tips?\\n\\n  \\nThanks in advance\", 'comment_thread': {'id': 'ke4p04e', 'body': 'Another vote for YNAB. Since it\\'s your first budgeting experience, you don\\'t need to unlearn bad habits. I\\'ve been a user for years and their methodology changed how I manage my money. \\n\\nYnab is a zero based digital envelope system. It asks you to take all the money you have, dump it on a table and then put it into envelopes (app calls them categories). These envelopes can be monthly expenses like rent, utilities, car payment or they can be savings like an emergency fund. \\n\\nWhat ynab does better than any other budgeting app I\\'ve tried is that it makes you accountable. While the app does have auto import from accounts,  it encourages you to manually enter transactions as you make them. This makes you immediately \"feel\" the transaction as if it were cash leaving your wallet. Likewise, when you enter a transaction, it immediately subtracts that amount from your categories. That means that if you only put $30 in groceries, but you spent $50 at the store, you need to figure out where that extra $20 will come from. Let\\'s say you put $20 in your \"dining out\" envelope, but haven\\'t spent it yet. You can tell ynab to move that $20 from \"dining out\" to \"groceries\" to cover that spending. It forces you to deal with the reality of the spending right then rather than just track that you spent more than you wanted to. It\\'s more hands on which helps keep you engaged in your finances rather than a passive bystander.', 'score': 23, 'author': 'Nolegrl', 'replies': []}}\n"
     ]
    }
   ],
   "source": [
    "print(f\"test: {example_inputs[0]}\")"
   ]
  },
  {
   "cell_type": "code",
   "execution_count": 70,
   "metadata": {},
   "outputs": [],
   "source": [
    "example_outputs = []"
   ]
  },
  {
   "cell_type": "code",
   "execution_count": 71,
   "metadata": {},
   "outputs": [],
   "source": [
    "example_out1 = example_inputs[0].copy()"
   ]
  },
  {
   "cell_type": "code",
   "execution_count": 72,
   "metadata": {},
   "outputs": [
    {
     "data": {
      "text/plain": [
       "{'query': 'best budgeting app reddit',\n",
       " 'title': 'Best budgeting app for a complete newbie?',\n",
       " 'selftext': \"42 years old and have a lot of fear around money. That fear keeps me from really tracking my personal finances. Like, I literally check my bank account balance a week before rents due and just hope for the best lol. So far I've always been fine in my adult life and able to pay rent; although there have been some close calls. I'm so mindful in so many other aspects of my life. But just not when it comes to money, budgeting, and tracking. I know the way I do things now is INCREDIBLY irresponsible. \\n\\n  \\nMy goal for 2024 is to lean into that fear around money and to start tracking my personal finance, budgeting, start being more mindful of my spending, and to just all around become more financially responsible.\\n\\n  \\nIs there a budgeting app you'd recommend for a beginner? Also any other tips?\\n\\n  \\nThanks in advance\",\n",
       " 'comment_thread': {'id': 'ke4p04e',\n",
       "  'body': 'Another vote for YNAB. Since it\\'s your first budgeting experience, you don\\'t need to unlearn bad habits. I\\'ve been a user for years and their methodology changed how I manage my money. \\n\\nYnab is a zero based digital envelope system. It asks you to take all the money you have, dump it on a table and then put it into envelopes (app calls them categories). These envelopes can be monthly expenses like rent, utilities, car payment or they can be savings like an emergency fund. \\n\\nWhat ynab does better than any other budgeting app I\\'ve tried is that it makes you accountable. While the app does have auto import from accounts,  it encourages you to manually enter transactions as you make them. This makes you immediately \"feel\" the transaction as if it were cash leaving your wallet. Likewise, when you enter a transaction, it immediately subtracts that amount from your categories. That means that if you only put $30 in groceries, but you spent $50 at the store, you need to figure out where that extra $20 will come from. Let\\'s say you put $20 in your \"dining out\" envelope, but haven\\'t spent it yet. You can tell ynab to move that $20 from \"dining out\" to \"groceries\" to cover that spending. It forces you to deal with the reality of the spending right then rather than just track that you spent more than you wanted to. It\\'s more hands on which helps keep you engaged in your finances rather than a passive bystander.',\n",
       "  'score': 23,\n",
       "  'author': 'Nolegrl',\n",
       "  'replies': []}}"
      ]
     },
     "execution_count": 72,
     "metadata": {},
     "output_type": "execute_result"
    }
   ],
   "source": [
    "example_out1"
   ]
  },
  {
   "cell_type": "code",
   "execution_count": null,
   "metadata": {},
   "outputs": [],
   "source": [
    "system_msg = \"You are a helpful assistant.\"\n",
    "user_msg = \"\"\"I will give you a search query (e.g., \"best headphones reddit\"), a Reddit post that resulted from googling that query, and a comment thread from that post in the form of a JSON object. Reply with a JSON array of items mentioned in the comment thread. Each element in the array will have three keys: `name`, which is simply the name of the item; `recommendedBy`, which is a list of comment ids that recommend the item; and `notRecommendedBy`, which is a list of comment ids that don't recommend the item and instead actively dissuade others from using the item. Let's go through some examples:\n",
    "\n",
    "Input 1: {'query': 'best git mergetool',\n",
    " 'title': 'What diff / merge tools do you use with Git?',\n",
    " 'selftext': \"I have a Mac and have been using Visual Studio Code as my diff and merge tool and it works pretty well but I'm curious what other people use (even if they are not Mac users).\\n\\nIs there a specific reason you use the tool that you do?\",\n",
    " 'comment_thread': {'id': 'kbfzc62',\n",
    "  'body': 'I just use the built in FileMerge tool on Mac, or the built in diff tooling in the Fork git client. \\nAs for the reason, it’s because it’s just the first one I used, or the most convenient as I don’t need to install another product.',\n",
    "  'score': 3,\n",
    "  'author': 'somore_nick',\n",
    "  'replies': [{'id': 'kbgbc7o',\n",
    "    'body': 'Thank you.',\n",
    "    'score': 1,\n",
    "    'author': 'CromulentSlacker',\n",
    "    'replies': []}]}}\n",
    "Output 1: [\n",
    "    {\n",
    "        \"name\": \"FileMerge\",\n",
    "        \"recommendedBy\": [\"kbfzc62\"],\n",
    "        \"notRecommendedBy\": []\n",
    "    }\n",
    "]\n",
    "\n",
    "Input 2: {'query': 'best baas reddit',\n",
    " 'title': 'What are your favorite BaaS and Databases alternatives to Firebase?',\n",
    " 'selftext': \"I have been using Firebase for a long time and I'm generally a fan. It makes developing a dedicated backend obsolete because it combines a Database, Authentication, Functions, etc, and the Flutter api is easy to use. Therefore saves me a lot of time. For normal apps, I no longer want to use a dedicated backend.\\n\\nHowever, the only downside for me is Firestore and its limitations. Imo it just has quite a lot of limitations to how I query and manage data. For example, full-text search is something I need in many apps but not possible in Firestore without using third-party solutions like Algolia, which I have used successfully before but it's just not optimal to use two services where the data between each other needs to be synchronized. Another example, for example, I want to update all documents based on a certain conditions means I need to first query all these documents and then update them.\\n\\nThese points make me think about using an SQL database as it seems that I have more control over db operations.\\n\\nIt seems, Firebase is by far the most popular option for a BaaS for Flutter. I know there are other solutions in MongoDB, Supabase, etc. but haven't yet tried them in detail.\\n\\nWhat are your favorite backend solutions for Flutter development and how do they compare to Firebase? What are the limitations that other BaaS have?\",\n",
    " 'comment_thread': {'id': 'kifgm3d',\n",
    "  'body': 'Take a look at pocketbase. Uses sqllite for db and very easy to setup.',\n",
    "  'score': 12,\n",
    "  'author': 'rip71de',\n",
    "  'replies': [{'id': 'kih8njp',\n",
    "    'body': 'PocketBase is great.',\n",
    "    'score': 2,\n",
    "    'author': 'strash_one',\n",
    "    'replies': []}]}}\n",
    "Output 2: [\n",
    "    {\n",
    "        \"name\": \"PocketBase\",\n",
    "        \"recommendedBy\": [\"kifgm3d\"],\n",
    "        \"notRecommendedBy\": []\n",
    "    }\n",
    "]\n",
    "\n",
    "Input 3: {'query': 'best budgeting app reddit',\n",
    " 'title': 'Best budgeting app for a complete newbie?',\n",
    " 'selftext': \"42 years old and have a lot of fear around money. That fear keeps me from really tracking my personal finances. Like, I literally check my bank account balance a week before rents due and just hope for the best lol. So far I've always been fine in my adult life and able to pay rent; although there have been some close calls. I'm so mindful in so many other aspects of my life. But just not when it comes to money, budgeting, and tracking. I know the way I do things now is INCREDIBLY irresponsible. \\n\\n  \\nMy goal for 2024 is to lean into that fear around money and to start tracking my personal finance, budgeting, start being more mindful of my spending, and to just all around become more financially responsible.\\n\\n  \\nIs there a budgeting app you'd recommend for a beginner? Also any other tips?\\n\\n  \\nThanks in advance\",\n",
    " 'comment_thread': {'id': 'ke4p04e',\n",
    "  'body': 'Another vote for YNAB. Since it\\'s your first budgeting experience, you don\\'t need to unlearn bad habits. I\\'ve been a user for years and their methodology changed how I manage my money. \\n\\nYnab is a zero based digital envelope system. It asks you to take all the money you have, dump it on a table and then put it into envelopes (app calls them categories). These envelopes can be monthly expenses like rent, utilities, car payment or they can be savings like an emergency fund. \\n\\nWhat ynab does better than any other budgeting app I\\'ve tried is that it makes you accountable. While the app does have auto import from accounts,  it encourages you to manually enter transactions as you make them. This makes you immediately \"feel\" the transaction as if it were cash leaving your wallet. Likewise, when you enter a transaction, it immediately subtracts that amount from your categories. That means that if you only put $30 in groceries, but you spent $50 at the store, you need to figure out where that extra $20 will come from. Let\\'s say you put $20 in your \"dining out\" envelope, but haven\\'t spent it yet. You can tell ynab to move that $20 from \"dining out\" to \"groceries\" to cover that spending. It forces you to deal with the reality of the spending right then rather than just track that you spent more than you wanted to. It\\'s more hands on which helps keep you engaged in your finances rather than a passive bystander.',\n",
    "  'score': 23,\n",
    "  'author': 'Nolegrl',\n",
    "  'replies': []}}\n",
    "Output 3: [\n",
    "    {\n",
    "        \"name\": \"YNAB\",\n",
    "        \"recommendedBy\": [\"ke4p04e\"],\n",
    "        \"notRecommendedBy\": []\n",
    "    }\n",
    "]\n",
    "\n",
    "Input 4: \n",
    "\"\"\"\n",
    "\n",
    "client = Client()\n",
    "response = client.chat.completions.create(\n",
    "    model=\"gpt-3.5-turbo\",\n",
    "    messages=[{\"role\": \"system\", \"content\": system_msg},\n",
    "              {\"role\": \"user\", \"content\": user_msg}],\n",
    ")\n",
    "print(response.choices[0].message.content)"
   ]
  }
 ],
 "metadata": {
  "kernelspec": {
   "display_name": "Python 3",
   "language": "python",
   "name": "python3"
  },
  "language_info": {
   "codemirror_mode": {
    "name": "ipython",
    "version": 3
   },
   "file_extension": ".py",
   "mimetype": "text/x-python",
   "name": "python",
   "nbconvert_exporter": "python",
   "pygments_lexer": "ipython3",
   "version": "3.13.1"
  }
 },
 "nbformat": 4,
 "nbformat_minor": 2
}
