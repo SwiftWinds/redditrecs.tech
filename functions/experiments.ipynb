{
 "cells": [
  {
   "cell_type": "code",
   "execution_count": 1,
   "metadata": {},
   "outputs": [],
   "source": [
    "import json\n",
    "import requests\n",
    "\n",
    "from googlesearch import search\n",
    "\n",
    "import praw\n",
    "\n",
    "from multiprocess import Pool\n",
    "import time\n",
    "\n",
    "from g4f.client import Client"
   ]
  },
  {
   "cell_type": "code",
   "execution_count": 13,
   "metadata": {},
   "outputs": [],
   "source": [
    "query = \"best res\"\n",
    "\n",
    "cursor_pos = len(query)\n",
    "url_friendly_query = query.replace(\" \", \"%20\")\n",
    "\n",
    "url = f\"https://www.google.com/complete/search?q={url_friendly_query}%20reddit&cp={cursor_pos}&client=gws-wiz&xssi=t&hl=en&authuser=0&dpr=2\"\n",
    "\n",
    "res = requests.get(url).text[5:]\n",
    "parsed = json.loads(res)[0]"
   ]
  },
  {
   "cell_type": "code",
   "execution_count": 14,
   "metadata": {},
   "outputs": [],
   "source": [
    "suggestions = [element[0].replace(\"reddit\", \"\").replace(\" </b>\", \"</b>\") for element in parsed]"
   ]
  },
  {
   "cell_type": "code",
   "execution_count": 15,
   "metadata": {},
   "outputs": [
    {
     "data": {
      "text/plain": [
       "['best res<b>ume builder</b>',\n",
       " 'best res<b>ident evil game</b>',\n",
       " 'best res<b>ume template</b>',\n",
       " 'best res<b>istance bands</b>',\n",
       " 'best res<b>taurants nyc</b>',\n",
       " 'best res<b>ume writing service</b>',\n",
       " 'best res<b>taurants chicago</b>',\n",
       " 'best res<b>taurants montreal</b>',\n",
       " 'best res<b>p canada</b>',\n",
       " 'best res<b>taurants in rome</b>']"
      ]
     },
     "execution_count": 15,
     "metadata": {},
     "output_type": "execute_result"
    }
   ],
   "source": [
    "suggestions"
   ]
  },
  {
   "cell_type": "code",
   "execution_count": 2,
   "metadata": {},
   "outputs": [],
   "source": [
    "submission_ids = []\n",
    "for res in search(\"best git merge tool reddit\", safe=None):\n",
    "    if \"/comments/\" in res:\n",
    "        submission_id = res.split(\"/\")[6]\n",
    "        submission_ids.append(submission_id)"
   ]
  },
  {
   "cell_type": "code",
   "execution_count": 3,
   "metadata": {},
   "outputs": [],
   "source": [
    "r = praw.Reddit(\n",
    "    client_id=\"2gs3ULbVK-pGh7INla0gWg\",\n",
    "    client_secret=\"g6S2REUlWw8fBBIgJiaFrqIkZUVICQ\",\n",
    "    user_agent=\"web:tech.redditrecs:v1.0.0 (by u/matetoes)\",\n",
    ")"
   ]
  },
  {
   "cell_type": "code",
   "execution_count": 4,
   "metadata": {},
   "outputs": [
    {
     "data": {
      "text/plain": [
       "['l75rhr',\n",
       " '187ph83',\n",
       " '158zdir',\n",
       " '16xa2q0',\n",
       " 'mo3pyn',\n",
       " 'icptpk',\n",
       " '6hjm92',\n",
       " '18hw0zp',\n",
       " '123ha5p',\n",
       " 'u82rmz',\n",
       " 'kduahq',\n",
       " '15iy7cp']"
      ]
     },
     "execution_count": 4,
     "metadata": {},
     "output_type": "execute_result"
    }
   ],
   "source": [
    "submission_ids"
   ]
  },
  {
   "cell_type": "code",
   "execution_count": 5,
   "metadata": {},
   "outputs": [
    {
     "name": "stdout",
     "output_type": "stream",
     "text": [
      "Submission u82rmz took 0.5418558120727539 seconds\n",
      "Submission kduahq took 0.5784461498260498 seconds\n",
      "Submission 6hjm92 took 0.6053669452667236 seconds\n",
      "Submission icptpk took 0.6350729465484619 secondsSubmission l75rhr took 0.6402549743652344 seconds\n",
      "\n",
      "Submission 123ha5p took 0.6276180744171143 seconds\n",
      "Submission 187ph83 took 0.7350268363952637 seconds\n",
      "Submission mo3pyn took 0.7547240257263184 secondsSubmission 158zdir took 0.7592282295227051 seconds\n",
      "\n",
      "Submission 15iy7cp took 0.7537839412689209 seconds\n",
      "Submission 16xa2q0 took 0.8493468761444092 seconds\n",
      "Submission 18hw0zp took 1.7624421119689941 seconds\n"
     ]
    }
   ],
   "source": [
    "submissions = []\n",
    "\n",
    "def jsonify(comment):\n",
    "    return {\n",
    "        \"body\": comment.body,\n",
    "        \"score\": comment.score,\n",
    "        \"author\": str(comment.author),\n",
    "        \"replies\": [jsonify(reply) for reply in comment.replies],\n",
    "    }\n",
    "\n",
    "def get(submission_id):\n",
    "    # let's time how long this takes\n",
    "    start = time.time()\n",
    "    comments = []\n",
    "    submission = r.submission(submission_id)\n",
    "    submission.comments.replace_more(limit=None)\n",
    "    # get title and body of submission\n",
    "    title = submission.title\n",
    "    selftext = submission.selftext\n",
    "    for comment in submission.comments:\n",
    "        comments.append(jsonify(comment))\n",
    "    result = {\n",
    "        \"title\": title,\n",
    "        \"selftext\": selftext,\n",
    "        \"comments\": comments,\n",
    "    }\n",
    "    end = time.time()\n",
    "    print(f\"Submission {submission_id} took {end - start} seconds\")\n",
    "    return result\n",
    "\n",
    "with Pool(len(submission_ids)) as pool:\n",
    "    submissions = pool.map(get, submission_ids)"
   ]
  },
  {
   "cell_type": "code",
   "execution_count": 7,
   "metadata": {},
   "outputs": [
    {
     "data": {
      "text/plain": [
       "5713"
      ]
     },
     "execution_count": 7,
     "metadata": {},
     "output_type": "execute_result"
    }
   ],
   "source": [
    "len(json.dumps(submissions[0][\"comments\"][0]))\n",
    "\n",
    "# let's find the max\n",
    "max_len = 0\n",
    "max_comment = None\n",
    "for submission in submissions:\n",
    "    for comment in submission[\"comments\"]:\n",
    "        if len(json.dumps(comment)) > max_len:\n",
    "            max_len = len(json.dumps(comment))\n",
    "            max_comment = comment\n",
    "\n",
    "max_len"
   ]
  },
  {
   "cell_type": "code",
   "execution_count": 12,
   "metadata": {},
   "outputs": [
    {
     "name": "stdout",
     "output_type": "stream",
     "text": [
      "113\n"
     ]
    }
   ],
   "source": [
    "len(submissions[0][\"comments\"])\n",
    "\n",
    "# let's sum all the lengths\n",
    "print(sum([len(submission[\"comments\"]) for submission in submissions]))"
   ]
  },
  {
   "cell_type": "code",
   "execution_count": 10,
   "metadata": {},
   "outputs": [],
   "source": [
    "def to_input(submission, query):\n",
    "    return {\n",
    "        \"query\": query,\n",
    "        \"title\": submission[\"title\"],\n",
    "        \"selftext\": submission[\"selftext\"],\n",
    "        \"comment_thread\": submission[\"comments\"][0],\n",
    "    }"
   ]
  },
  {
   "cell_type": "code",
   "execution_count": 22,
   "metadata": {},
   "outputs": [],
   "source": [
    "example_inputs = []"
   ]
  },
  {
   "cell_type": "code",
   "execution_count": 23,
   "metadata": {},
   "outputs": [],
   "source": [
    "example_inputs.append(to_input(submissions[0], \"best git mergetool\"))"
   ]
  },
  {
   "cell_type": "code",
   "execution_count": 24,
   "metadata": {},
   "outputs": [
    {
     "name": "stdout",
     "output_type": "stream",
     "text": [
      "test: {'query': 'best git mergetool', 'title': 'Do you use some git mergetool? What should I get to start working seriously with git', 'selftext': \"I'm a beginner in git and I want to know if it's good to use a mergetool to use git. I don't find the command line so intuitive to find differences between files. I've heard that a complete GUI for git is not so reliable, is it the same with a mergetool? Is it some tool outside git I need to get or just command line is enough?\", 'comments': {'body': 'Git guis are discouraged because they make assumptions about things and hide those complexities from you.\\n\\nMerge/diff tools have a single purpose - to allow you to see and merge changes in a file.\\n\\nI use the git command line exclusively, either in bash or PowerShell. But I use a merge tool (BeyondCompare) for diffs and merges.', 'score': 3, 'author': 'Matosawitko', 'replies': [{'body': \"> make assumptions about things and hide those complexities from you\\n\\nFor example? Not arguing just hasn't been my experience\", 'score': 2, 'author': 'olets', 'replies': [{'body': \"Which ones are you familiar with? I've used git gui/gitk, Sourcetree, Github Desktop, and Tortoise. They all vary quite a bit in terms of features, etc, but in general you have to understand the underlying git commands to use them well. At which point you might as well just use the command line.\", 'score': 2, 'author': 'Matosawitko', 'replies': [{'body': 'I\\'m a Mac user so not Tortoise but the rest of those and others - Git UIs are something I geek out about, so I try to play with all that I can. (Though as I said in another comment GitHub Desktop is so minimally featured and idiomatic I don\\'t even really consider it a \"Git UI\"! More an app for doing a few interactions with Git repos.)\\n\\nRe needing to know underlying Git commands: this probably comes down to how different people\\'s minds work. When I was starting out I found Sourcetree hugely helpful for making sense of basic concepts like staged files, commits, branches. (Later I returned to it to help make sense other things, particularly around history rewriting where the visual confirmation and being able to see everything regardless of whether I\\'d know to look for it is helpful for me.) I\\'ve seen UIs help other beginners make sense of things too, so I always encourage at least trying it out.', 'score': 2, 'author': 'olets', 'replies': []}]}, {'body': \"One example that comes to mind is Visual Studio. They originally used their own language and have been slowly moving to use gits official language. Recently they even pulled all of the git tools from the team panel into their own panel.\\n\\nThe old GitHub tool also had many assumptions but I haven't used that tool on a while so I don't know what it's current state is.\", 'score': 0, 'author': 'am385', 'replies': [{'body': \"Gotcha. Agreed on both counts — wasn't thinking of VSCode's Git support as a Git UI, but absolutely GitHub Desktop is (was) extreme on both assumptions and limiting what you can do (so extreme that I too haven't touched it in a long time)\", 'score': 1, 'author': 'olets', 'replies': []}]}]}, {'body': \"BeyondCompare isn't specifically for Git, right?\", 'score': 1, 'author': 'Rafaelchavez', 'replies': [{'body': \"Right. It's a general difference tool that is configurable to use with git.\", 'score': 1, 'author': 'Matosawitko', 'replies': []}]}, {'body': \"I'm a developer on gitkraken, so perhaps I'm biased, but I disagree. Some guis hide complexity sure, but they can also improve visibility to the internal state of the repo, which makes learning git way easier. This is where they really shine in my opinion. Github desktop is a poor example, look instead to Gitkraken, Fork, or Sourcetree. All of them provide feedback on how your actions affect your commits and the state of your repo that's hard to get on the CLI alone.\\n\\nTake the question of rebase vs merge for example. It's a question beginners ask a lot, even though they're pretty different in terms of what they do. It's hard to give a precise beginner-friendly verbal explanation of the difference, in part because any verbal explanation of a git thing is bound to be extremely jargon-heavy, but it's extremely obvious how they're different by just trying both and watching what they do to the graph.\", 'score': 1, 'author': 'axosoft-chuckd', 'replies': []}]}}\n"
     ]
    }
   ],
   "source": [
    "print(f\"test: {example_inputs[0]}\")"
   ]
  },
  {
   "cell_type": "code",
   "execution_count": 25,
   "metadata": {},
   "outputs": [],
   "source": [
    "example_outputs = []"
   ]
  },
  {
   "cell_type": "code",
   "execution_count": 26,
   "metadata": {},
   "outputs": [],
   "source": [
    "example_out1 = example_inputs[0].copy()"
   ]
  },
  {
   "cell_type": "code",
   "execution_count": 27,
   "metadata": {},
   "outputs": [
    {
     "data": {
      "text/plain": [
       "{'query': 'best git mergetool',\n",
       " 'title': 'Do you use some git mergetool? What should I get to start working seriously with git',\n",
       " 'selftext': \"I'm a beginner in git and I want to know if it's good to use a mergetool to use git. I don't find the command line so intuitive to find differences between files. I've heard that a complete GUI for git is not so reliable, is it the same with a mergetool? Is it some tool outside git I need to get or just command line is enough?\",\n",
       " 'comments': {'body': 'Git guis are discouraged because they make assumptions about things and hide those complexities from you.\\n\\nMerge/diff tools have a single purpose - to allow you to see and merge changes in a file.\\n\\nI use the git command line exclusively, either in bash or PowerShell. But I use a merge tool (BeyondCompare) for diffs and merges.',\n",
       "  'score': 3,\n",
       "  'author': 'Matosawitko',\n",
       "  'replies': [{'body': \"> make assumptions about things and hide those complexities from you\\n\\nFor example? Not arguing just hasn't been my experience\",\n",
       "    'score': 2,\n",
       "    'author': 'olets',\n",
       "    'replies': [{'body': \"Which ones are you familiar with? I've used git gui/gitk, Sourcetree, Github Desktop, and Tortoise. They all vary quite a bit in terms of features, etc, but in general you have to understand the underlying git commands to use them well. At which point you might as well just use the command line.\",\n",
       "      'score': 2,\n",
       "      'author': 'Matosawitko',\n",
       "      'replies': [{'body': 'I\\'m a Mac user so not Tortoise but the rest of those and others - Git UIs are something I geek out about, so I try to play with all that I can. (Though as I said in another comment GitHub Desktop is so minimally featured and idiomatic I don\\'t even really consider it a \"Git UI\"! More an app for doing a few interactions with Git repos.)\\n\\nRe needing to know underlying Git commands: this probably comes down to how different people\\'s minds work. When I was starting out I found Sourcetree hugely helpful for making sense of basic concepts like staged files, commits, branches. (Later I returned to it to help make sense other things, particularly around history rewriting where the visual confirmation and being able to see everything regardless of whether I\\'d know to look for it is helpful for me.) I\\'ve seen UIs help other beginners make sense of things too, so I always encourage at least trying it out.',\n",
       "        'score': 2,\n",
       "        'author': 'olets',\n",
       "        'replies': []}]},\n",
       "     {'body': \"One example that comes to mind is Visual Studio. They originally used their own language and have been slowly moving to use gits official language. Recently they even pulled all of the git tools from the team panel into their own panel.\\n\\nThe old GitHub tool also had many assumptions but I haven't used that tool on a while so I don't know what it's current state is.\",\n",
       "      'score': 0,\n",
       "      'author': 'am385',\n",
       "      'replies': [{'body': \"Gotcha. Agreed on both counts — wasn't thinking of VSCode's Git support as a Git UI, but absolutely GitHub Desktop is (was) extreme on both assumptions and limiting what you can do (so extreme that I too haven't touched it in a long time)\",\n",
       "        'score': 1,\n",
       "        'author': 'olets',\n",
       "        'replies': []}]}]},\n",
       "   {'body': \"BeyondCompare isn't specifically for Git, right?\",\n",
       "    'score': 1,\n",
       "    'author': 'Rafaelchavez',\n",
       "    'replies': [{'body': \"Right. It's a general difference tool that is configurable to use with git.\",\n",
       "      'score': 1,\n",
       "      'author': 'Matosawitko',\n",
       "      'replies': []}]},\n",
       "   {'body': \"I'm a developer on gitkraken, so perhaps I'm biased, but I disagree. Some guis hide complexity sure, but they can also improve visibility to the internal state of the repo, which makes learning git way easier. This is where they really shine in my opinion. Github desktop is a poor example, look instead to Gitkraken, Fork, or Sourcetree. All of them provide feedback on how your actions affect your commits and the state of your repo that's hard to get on the CLI alone.\\n\\nTake the question of rebase vs merge for example. It's a question beginners ask a lot, even though they're pretty different in terms of what they do. It's hard to give a precise beginner-friendly verbal explanation of the difference, in part because any verbal explanation of a git thing is bound to be extremely jargon-heavy, but it's extremely obvious how they're different by just trying both and watching what they do to the graph.\",\n",
       "    'score': 1,\n",
       "    'author': 'axosoft-chuckd',\n",
       "    'replies': []}]}}"
      ]
     },
     "execution_count": 27,
     "metadata": {},
     "output_type": "execute_result"
    }
   ],
   "source": [
    "example_out1"
   ]
  },
  {
   "cell_type": "code",
   "execution_count": null,
   "metadata": {},
   "outputs": [],
   "source": [
    "system_msg = \"You are a helpful assistant.\"\n",
    "user_msg = \"\"\"I will give you a search query (e.g., \"best headphones reddit\"), a Reddit post that resulted from googling that query, and a comment thread from that post in the form of a JSON object. Reply with a JSON object, mimicking the tree-like structure of the comment thread in the original JSON, such that for each comment in the comment thread, you will list the names of the items that the user recommends (if any) and the names of the items that the user recommends against (if any). Let's go through some examples.\n",
    "\n",
    "Input: {'query': 'best git mergetool', 'title': 'Do you use some git mergetool? What should I get to start working seriously with git', 'selftext': \"I'm a beginner in git and I want to know if it's good to use a mergetool to use git. I don't find the command line so intuitive to find differences between files. I've heard that a complete GUI for git is not so reliable, is it the same with a mergetool? Is it some tool outside git I need to get or just command line is enough?\", 'comments': {'body': 'Git guis are discouraged because they make assumptions about things and hide those complexities from you.\\n\\nMerge/diff tools have a single purpose - to allow you to see and merge changes in a file.\\n\\nI use the git command line exclusively, either in bash or PowerShell. But I use a merge tool (BeyondCompare) for diffs and merges.', 'score': 3, 'author': 'Matosawitko', 'replies': [{'body': \"> make assumptions about things and hide those complexities from you\\n\\nFor example? Not arguing just hasn't been my experience\", 'score': 2, 'author': 'olets', 'replies': [{'body': \"Which ones are you familiar with? I've used git gui/gitk, Sourcetree, Github Desktop, and Tortoise. They all vary quite a bit in terms of features, etc, but in general you have to understand the underlying git commands to use them well. At which point you might as well just use the command line.\", 'score': 2, 'author': 'Matosawitko', 'replies': [{'body': 'I\\'m a Mac user so not Tortoise but the rest of those and others - Git UIs are something I geek out about, so I try to play with all that I can. (Though as I said in another comment GitHub Desktop is so minimally featured and idiomatic I don\\'t even really consider it a \"Git UI\"! More an app for doing a few interactions with Git repos.)\\n\\nRe needing to know underlying Git commands: this probably comes down to how different people\\'s minds work. When I was starting out I found Sourcetree hugely helpful for making sense of basic concepts like staged files, commits, branches. (Later I returned to it to help make sense other things, particularly around history rewriting where the visual confirmation and being able to see everything regardless of whether I\\'d know to look for it is helpful for me.) I\\'ve seen UIs help other beginners make sense of things too, so I always encourage at least trying it out.', 'score': 2, 'author': 'olets', 'replies': []}]}, {'body': \"One example that comes to mind is Visual Studio. They originally used their own language and have been slowly moving to use gits official language. Recently they even pulled all of the git tools from the team panel into their own panel.\\n\\nThe old GitHub tool also had many assumptions but I haven't used that tool on a while so I don't know what it's current state is.\", 'score': 0, 'author': 'am385', 'replies': [{'body': \"Gotcha. Agreed on both counts — wasn't thinking of VSCode's Git support as a Git UI, but absolutely GitHub Desktop is (was) extreme on both assumptions and limiting what you can do (so extreme that I too haven't touched it in a long time)\", 'score': 1, 'author': 'olets', 'replies': []}]}]}, {'body': \"BeyondCompare isn't specifically for Git, right?\", 'score': 1, 'author': 'Rafaelchavez', 'replies': [{'body': \"Right. It's a general difference tool that is configurable to use with git.\", 'score': 1, 'author': 'Matosawitko', 'replies': []}]}, {'body': \"I'm a developer on gitkraken, so perhaps I'm biased, but I disagree. Some guis hide complexity sure, but they can also improve visibility to the internal state of the repo, which makes learning git way easier. This is where they really shine in my opinion. Github desktop is a poor example, look instead to Gitkraken, Fork, or Sourcetree. All of them provide feedback on how your actions affect your commits and the state of your repo that's hard to get on the CLI alone.\\n\\nTake the question of rebase vs merge for example. It's a question beginners ask a lot, even though they're pretty different in terms of what they do. It's hard to give a precise beginner-friendly verbal explanation of the difference, in part because any verbal explanation of a git thing is bound to be extremely jargon-heavy, but it's extremely obvious how they're different by just trying both and watching what they do to the graph.\", 'score': 1, 'author': 'axosoft-chuckd', 'replies': []}]}}\n",
    "\n",
    "\n",
    "\"\"\"\n",
    "\n",
    "client = Client()\n",
    "response = client.chat.completions.create(\n",
    "    model=\"gpt-3.5-turbo\",\n",
    "    messages=[{\"role\": \"system\", \"content\": system_msg},\n",
    "              {\"role\": \"user\", \"content\": user_msg}],\n",
    ")\n",
    "print(response.choices[0].message.content)"
   ]
  }
 ],
 "metadata": {
  "kernelspec": {
   "display_name": "Python 3",
   "language": "python",
   "name": "python3"
  },
  "language_info": {
   "codemirror_mode": {
    "name": "ipython",
    "version": 3
   },
   "file_extension": ".py",
   "mimetype": "text/x-python",
   "name": "python",
   "nbconvert_exporter": "python",
   "pygments_lexer": "ipython3",
   "version": "3.12.4"
  }
 },
 "nbformat": 4,
 "nbformat_minor": 2
}
