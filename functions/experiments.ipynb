{
 "cells": [
  {
   "cell_type": "code",
   "execution_count": 13,
   "metadata": {},
   "outputs": [],
   "source": [
    "import json\n",
    "import requests\n",
    "\n",
    "query = \"best res\"\n",
    "\n",
    "cursor_pos = len(query)\n",
    "url_friendly_query = query.replace(\" \", \"%20\")\n",
    "\n",
    "url = f\"https://www.google.com/complete/search?q={url_friendly_query}%20reddit&cp={cursor_pos}&client=gws-wiz&xssi=t&hl=en&authuser=0&dpr=2\"\n",
    "\n",
    "res = requests.get(url).text[5:]\n",
    "parsed = json.loads(res)[0]"
   ]
  },
  {
   "cell_type": "code",
   "execution_count": 14,
   "metadata": {},
   "outputs": [],
   "source": [
    "suggestions = [element[0].replace(\"reddit\", \"\").replace(\" </b>\", \"</b>\") for element in parsed]"
   ]
  },
  {
   "cell_type": "code",
   "execution_count": 15,
   "metadata": {},
   "outputs": [
    {
     "data": {
      "text/plain": [
       "['best res<b>ume builder</b>',\n",
       " 'best res<b>ident evil game</b>',\n",
       " 'best res<b>ume template</b>',\n",
       " 'best res<b>istance bands</b>',\n",
       " 'best res<b>taurants nyc</b>',\n",
       " 'best res<b>ume writing service</b>',\n",
       " 'best res<b>taurants chicago</b>',\n",
       " 'best res<b>taurants montreal</b>',\n",
       " 'best res<b>p canada</b>',\n",
       " 'best res<b>taurants in rome</b>']"
      ]
     },
     "execution_count": 15,
     "metadata": {},
     "output_type": "execute_result"
    }
   ],
   "source": [
    "suggestions"
   ]
  },
  {
   "cell_type": "code",
   "execution_count": 56,
   "metadata": {},
   "outputs": [],
   "source": [
    "from googlesearch import search\n",
    "submission_ids = []\n",
    "for res in search(\"best git mergetool reddit\", safe=None):\n",
    "    if \"/comments/\" in res:\n",
    "        submission_id = res.split(\"/\")[6]\n",
    "        submission_ids.append(submission_id)"
   ]
  },
  {
   "cell_type": "code",
   "execution_count": 57,
   "metadata": {},
   "outputs": [],
   "source": [
    "import praw\n",
    "\n",
    "r = praw.Reddit(\n",
    "    client_id=\"2gs3ULbVK-pGh7INla0gWg\",\n",
    "    client_secret=\"g6S2REUlWw8fBBIgJiaFrqIkZUVICQ\",\n",
    "    user_agent=\"web:tech.redditrecs:v1.0.0 (by u/matetoes)\",\n",
    ")"
   ]
  },
  {
   "cell_type": "code",
   "execution_count": 58,
   "metadata": {},
   "outputs": [
    {
     "data": {
      "text/plain": [
       "['158zdir',\n",
       " 'icptpk',\n",
       " '6hjm92',\n",
       " 'dvs1jt',\n",
       " '13si22h',\n",
       " '6hjm92',\n",
       " 'dvs1jt',\n",
       " 'b0jjgw',\n",
       " 'dvs1jt',\n",
       " 'u82rmz',\n",
       " '13si22h',\n",
       " '18hw0zp']"
      ]
     },
     "execution_count": 58,
     "metadata": {},
     "output_type": "execute_result"
    }
   ],
   "source": [
    "submission_ids"
   ]
  },
  {
   "cell_type": "code",
   "execution_count": 61,
   "metadata": {},
   "outputs": [
    {
     "name": "stdout",
     "output_type": "stream",
     "text": [
      "Submission 6hjm92 took 0.5821151733398438 seconds\n",
      "Submission dvs1jt took 0.6117157936096191 secondsSubmission 6hjm92 took 0.7126731872558594 seconds\n",
      "Submission 158zdir took 0.7409169673919678 seconds\n",
      "\n",
      "Submission b0jjgw took 0.7538909912109375 seconds\n",
      "Submission icptpk took 0.7272889614105225 seconds\n",
      "Submission u82rmz took 0.7678050994873047 seconds\n",
      "Submission dvs1jt took 0.7784738540649414 seconds\n",
      "Submission dvs1jt took 0.8248569965362549 seconds\n",
      "Submission 18hw0zp took 1.6788458824157715 seconds\n",
      "Submission 13si22h took 2.033061981201172 seconds\n",
      "Submission 13si22h took 2.5215909481048584 seconds\n"
     ]
    }
   ],
   "source": [
    "from multiprocess import Pool\n",
    "import time\n",
    "\n",
    "submissions = []\n",
    "\n",
    "def jsonify(comment):\n",
    "    return {\n",
    "        \"body\": comment.body,\n",
    "        \"score\": comment.score,\n",
    "        \"author\": str(comment.author),\n",
    "        \"replies\": [jsonify(reply) for reply in comment.replies],\n",
    "    }\n",
    "\n",
    "def get(submission_id):\n",
    "    # let's time how long this takes\n",
    "    start = time.time()\n",
    "    comments = []\n",
    "    submission = r.submission(submission_id)\n",
    "    submission.comments.replace_more(limit=None)\n",
    "    # get title and body of submission\n",
    "    title = submission.title\n",
    "    selftext = submission.selftext\n",
    "    for comment in submission.comments:\n",
    "        comments.append(jsonify(comment))\n",
    "    result = {\n",
    "        \"title\": title,\n",
    "        \"selftext\": selftext,\n",
    "        \"comments\": comments,\n",
    "    }\n",
    "    end = time.time()\n",
    "    print(f\"Submission {submission_id} took {end - start} seconds\")\n",
    "    return result\n",
    "\n",
    "with Pool(len(submission_ids)) as pool:\n",
    "    submissions = pool.map(get, submission_ids)"
   ]
  },
  {
   "cell_type": "code",
   "execution_count": 69,
   "metadata": {},
   "outputs": [
    {
     "data": {
      "text/plain": [
       "27923"
      ]
     },
     "execution_count": 69,
     "metadata": {},
     "output_type": "execute_result"
    }
   ],
   "source": [
    "import json\n",
    "\n",
    "len(json.dumps(submissions[0][\"comments\"][0]))\n",
    "\n",
    "# lets find the max\n",
    "max_len = 0\n",
    "max_comment = None\n",
    "for submission in submissions:\n",
    "    for comment in submission[\"comments\"]:\n",
    "        if len(json.dumps(comment)) > max_len:\n",
    "            max_len = len(json.dumps(comment))\n",
    "            max_comment = comment\n",
    "\n",
    "max_len"
   ]
  }
 ],
 "metadata": {
  "kernelspec": {
   "display_name": "Python 3",
   "language": "python",
   "name": "python3"
  },
  "language_info": {
   "codemirror_mode": {
    "name": "ipython",
    "version": 3
   },
   "file_extension": ".py",
   "mimetype": "text/x-python",
   "name": "python",
   "nbconvert_exporter": "python",
   "pygments_lexer": "ipython3",
   "version": "3.12.4"
  }
 },
 "nbformat": 4,
 "nbformat_minor": 2
}
